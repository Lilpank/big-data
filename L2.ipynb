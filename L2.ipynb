{
 "cells": [
  {
   "attachments": {
    "2da3ad5a-132d-4936-bffc-ba439a5b06cb.png": {
     "image/png": "[encoded data removed]"
    }
   },
   "cell_type": "markdown",
   "id": "738faaa5-1b4c-4f76-8d51-e7e6c9fb124e",
   "metadata": {},
   "source": [
    "![image.png](attachment:2da3ad5a-132d-4936-bffc-ba439a5b06cb.png)"
   ]
  },
  {
   "cell_type": "code",
   "execution_count": 1,
   "id": "b3cfceb3-30ac-4c4d-b278-f062c48e1099",
   "metadata": {},
   "outputs": [],
   "source": [
    "from pyspark import SparkContext, SparkConf \n",
    "from pyspark.sql import SQLContext\n",
    "from pyspark.sql import SparkSession\n",
    "from pyspark.sql.functions import udf\n",
    "from pyspark.sql.types import StringType\n",
    "# from pyspark.sql.functions import *\n",
    "from pyspark.sql.types import IntegerType, Row\n",
    "import pyspark.sql.functions as F"
   ]
  },
  {
   "cell_type": "code",
   "execution_count": 2,
   "id": "c4ab8864-64ea-4d3f-873d-8358e31aa8f2",
   "metadata": {},
   "outputs": [],
   "source": [
    "spark = SparkSession.builder.appName('laba 2 Gorelykh').config(\"spark.jars.packages\", \"com.databricks:spark-xml_2.12:0.17.0\").getOrCreate()"
   ]
  },
  {
   "cell_type": "code",
   "execution_count": 3,
   "id": "f3e02aea-7570-42f0-a5e7-3a0de68548dc",
   "metadata": {},
   "outputs": [
    {
     "data": {
      "text/plain": [
       "Row(_AcceptedAnswerId=7, _AnswerCount=13, _Body=\"<p>I want to use a track-bar to change a form's opacity.</p>\\n\\n<p>This is my code:</p>\\n\\n<pre><code>decimal trans = trackBar1.Value / 5000;\\nthis.Opacity = trans;\\n</code></pre>\\n\\n<p>When I build the application, it gives the following error:</p>\\n\\n<blockquote>\\n  <p>Cannot implicitly convert type <code>'decimal'</code> to <code>'double'</code></p>\\n</blockquote>\\n\\n<p>I tried using <code>trans</code> and <code>double</code> but then the control doesn't work. This code worked fine in a past VB.NET project.</p>\\n\", _ClosedDate=None, _CommentCount=2, _CommunityOwnedDate=datetime.datetime(2012, 10, 31, 20, 42, 47, 213000), _CreationDate=datetime.datetime(2008, 8, 1, 2, 42, 52, 667000), _FavoriteCount=48, _Id=4, _LastActivityDate=datetime.datetime(2019, 7, 19, 5, 39, 54, 173000), _LastEditDate=datetime.datetime(2019, 7, 19, 5, 39, 54, 173000), _LastEditorDisplayName='Rich B', _LastEditorUserId=3641067, _OwnerDisplayName=None, _OwnerUserId=8, _ParentId=None, _PostTypeId=1, _Score=630, _Tags='<c#><floating-point><type-conversion><double><decimal>', _Title='Convert Decimal to Double?', _ViewCount=42817)"
      ]
     },
     "execution_count": 3,
     "metadata": {},
     "output_type": "execute_result"
    }
   ],
   "source": [
    "df = spark.read.format(\"com.databricks.spark.xml\").option(\"rootTag\", \"hierarchy\").option(\"rowTag\", \"row\").load(\"big_data/data/posts_sample.xml\")\n",
    "df.head()"
   ]
  },
  {
   "cell_type": "code",
   "execution_count": 4,
   "id": "da8d03f6-7d62-4b50-8e9b-af1aabcb6a1c",
   "metadata": {},
   "outputs": [
    {
     "data": {
      "text/plain": [
       "['_AcceptedAnswerId',\n",
       " '_AnswerCount',\n",
       " '_Body',\n",
       " '_ClosedDate',\n",
       " '_CommentCount',\n",
       " '_CommunityOwnedDate',\n",
       " '_CreationDate',\n",
       " '_FavoriteCount',\n",
       " '_Id',\n",
       " '_LastActivityDate',\n",
       " '_LastEditDate',\n",
       " '_LastEditorDisplayName',\n",
       " '_LastEditorUserId',\n",
       " '_OwnerDisplayName',\n",
       " '_OwnerUserId',\n",
       " '_ParentId',\n",
       " '_PostTypeId',\n",
       " '_Score',\n",
       " '_Tags',\n",
       " '_Title',\n",
       " '_ViewCount']"
      ]
     },
     "execution_count": 4,
     "metadata": {},
     "output_type": "execute_result"
    }
   ],
   "source": [
    "df.schema.names"
   ]
  },
  {
   "cell_type": "code",
   "execution_count": 5,
   "id": "96deb931-b6f1-46bc-a28c-89c063acb986",
   "metadata": {},
   "outputs": [],
   "source": [
    "df = df.drop('_Body', '_ClosedDate',  '_CommentCount', '_CommunityOwnedDate', '_LastEditDate', '_AcceptedAnswerId',\n",
    " '_LastEditorDisplayName',\n",
    " '_LastEditorUserId',\n",
    " '_OwnerDisplayName',\n",
    " '_OwnerUserId', '_ParentId',  '_PostTypeId', '_Id', '_ViewCount', '_FavoriteCount', '_AnswerCount', '_Title')\n",
    "df = df.dropna(subset=[\"_Tags\", \"_CreationDate\", \"_Score\"])"
   ]
  },
  {
   "cell_type": "code",
   "execution_count": 6,
   "id": "488e625a-8d34-4f47-b2d7-e47c2c3ad51d",
   "metadata": {},
   "outputs": [
    {
     "name": "stdout",
     "output_type": "stream",
     "text": [
      "+--------------------+--------------------+------+--------------------+\n",
      "|       _CreationDate|   _LastActivityDate|_Score|               _Tags|\n",
      "+--------------------+--------------------+------+--------------------+\n",
      "|2008-08-01 02:42:...|2019-07-19 05:39:...|   630|<c#><floating-poi...|\n",
      "|2008-08-01 03:08:...|2019-07-19 05:43:...|   281|<html><css><inter...|\n",
      "|2008-08-01 04:40:...|2019-06-26 19:25:...|  1742|<c#><.net><datetime>|\n",
      "|2008-08-01 04:55:...|2019-05-26 06:31:...|  1444|<c#><datetime><ti...|\n",
      "|2008-08-01 05:42:...|2019-05-14 20:02:...|   590|<html><browser><t...|\n",
      "|2008-08-01 05:59:...|2018-09-19 07:49:...|   399|        <.net><math>|\n",
      "|2010-09-22 14:33:...|2017-02-26 22:11:...|    10|<c++><character-e...|\n",
      "|2010-09-23 10:47:...|2010-11-23 16:14:...|     1|<sharepoint><info...|\n",
      "|2010-09-23 12:53:...|2012-09-11 18:09:...|     6|<iphone><app-stor...|\n",
      "|2010-09-23 15:47:...|2012-04-17 02:54:...|     5|<symfony1><schema...|\n",
      "|2010-09-23 16:13:...|2010-09-23 17:52:...|    -4|              <java>|\n",
      "|2010-09-24 12:40:...|2011-01-20 14:02:...|     0|<visual-studio-20...|\n",
      "|2010-09-24 20:34:...|2010-09-26 11:54:...|     1|<cakephp><file-up...|\n",
      "|2010-09-25 21:42:...|2012-05-17 17:22:...|     1|<git><cygwin><putty>|\n",
      "|2010-09-26 16:58:...|2010-09-26 19:33:...|     1|  <drupal><drupal-6>|\n",
      "|2010-09-26 21:07:...|2010-09-27 18:34:...|     3|<php><wordpress><...|\n",
      "|2010-09-27 09:20:...|2014-09-09 13:50:...|    11|<c#><winforms><da...|\n",
      "|2010-09-27 13:48:...|2012-03-02 06:31:...|     2|<c#><asp.net><exc...|\n",
      "|2010-09-28 12:56:...|2010-12-24 12:50:...|     1|    <sql><xml><blob>|\n",
      "|2010-09-28 22:48:...|2017-03-23 23:03:...|     3|<.htaccess><codei...|\n",
      "+--------------------+--------------------+------+--------------------+\n",
      "only showing top 20 rows\n",
      "\n"
     ]
    }
   ],
   "source": [
    "df.show()"
   ]
  },
  {
   "cell_type": "code",
   "execution_count": 7,
   "id": "6cdfb444-25f5-4836-a67b-e465e2ba886d",
   "metadata": {},
   "outputs": [],
   "source": [
    "df = df.withColumn('tags', F.regexp_extract('_Tags', r'\\.?\\w+#?\\+*', 0))"
   ]
  },
  {
   "cell_type": "code",
   "execution_count": 8,
   "id": "4ffb6dac-a40c-439d-aa7d-1248be5a63a6",
   "metadata": {},
   "outputs": [],
   "source": [
    "df = df.withColumn('_CreationDate', F.year(df._CreationDate))"
   ]
  },
  {
   "cell_type": "code",
   "execution_count": 9,
   "id": "de4f132a-64d7-4e5a-83d7-1377526f76d3",
   "metadata": {},
   "outputs": [
    {
     "data": {
      "text/plain": [
       "1043"
      ]
     },
     "execution_count": 9,
     "metadata": {},
     "output_type": "execute_result"
    }
   ],
   "source": [
    "df.select(\"tags\").distinct().count()"
   ]
  },
  {
   "cell_type": "code",
   "execution_count": 10,
   "id": "54b8c5f7-69b2-48b5-bbc3-b56cd72b2225",
   "metadata": {},
   "outputs": [
    {
     "name": "stdout",
     "output_type": "stream",
     "text": [
      "+-------------+--------------------+------+----------+\n",
      "|_CreationDate|   _LastActivityDate|_Score|      tags|\n",
      "+-------------+--------------------+------+----------+\n",
      "|         2008|2019-07-19 05:39:...|   630|        c#|\n",
      "|         2008|2019-07-19 05:43:...|   281|      html|\n",
      "|         2008|2019-06-26 19:25:...|  1742|        c#|\n",
      "|         2008|2019-05-26 06:31:...|  1444|        c#|\n",
      "|         2008|2019-05-14 20:02:...|   590|      html|\n",
      "|         2008|2018-09-19 07:49:...|   399|      .net|\n",
      "|         2010|2017-02-26 22:11:...|    10|       c++|\n",
      "|         2010|2010-11-23 16:14:...|     1|sharepoint|\n",
      "|         2010|2012-09-11 18:09:...|     6|    iphone|\n",
      "|         2010|2012-04-17 02:54:...|     5|  symfony1|\n",
      "|         2010|2010-09-23 17:52:...|    -4|      java|\n",
      "|         2010|2011-01-20 14:02:...|     0|    visual|\n",
      "|         2010|2010-09-26 11:54:...|     1|   cakephp|\n",
      "|         2010|2012-05-17 17:22:...|     1|       git|\n",
      "|         2010|2010-09-26 19:33:...|     1|    drupal|\n",
      "|         2010|2010-09-27 18:34:...|     3|       php|\n",
      "|         2010|2014-09-09 13:50:...|    11|        c#|\n",
      "|         2010|2012-03-02 06:31:...|     2|        c#|\n",
      "|         2010|2010-12-24 12:50:...|     1|       sql|\n",
      "|         2010|2017-03-23 23:03:...|     3| .htaccess|\n",
      "+-------------+--------------------+------+----------+\n",
      "only showing top 20 rows\n",
      "\n"
     ]
    }
   ],
   "source": [
    "df = df.drop('_Tags')\n",
    "df.show()"
   ]
  },
  {
   "cell_type": "code",
   "execution_count": 47,
   "id": "8e1f61c1-78bf-404a-a463-34f909a9d641",
   "metadata": {},
   "outputs": [],
   "source": [
    "postsInternal = df.groupBy(\"_CreationDate\", \"tags\").sum(\"_Score\")"
   ]
  },
  {
   "cell_type": "code",
   "execution_count": 52,
   "id": "ca30e174-52ed-42cd-841f-fd80ddbd3a50",
   "metadata": {},
   "outputs": [],
   "source": [
    "postsInternal = postsInternal.withColumnRenamed(\"sum(_Score)\", \"score\")"
   ]
  },
  {
   "cell_type": "code",
   "execution_count": 53,
   "id": "88fda122-83f1-4bf6-a006-c7e93b2907c5",
   "metadata": {},
   "outputs": [
    {
     "name": "stdout",
     "output_type": "stream",
     "text": [
      "root\n",
      " |-- _CreationDate: integer (nullable = true)\n",
      " |-- tags: string (nullable = true)\n",
      " |-- score: long (nullable = true)\n",
      "\n"
     ]
    }
   ],
   "source": [
    "postsInternal.printSchema()"
   ]
  },
  {
   "cell_type": "code",
   "execution_count": 70,
   "id": "8dbf9040-2a23-4a8a-abf7-f3319ffc0418",
   "metadata": {},
   "outputs": [
    {
     "name": "stdout",
     "output_type": "stream",
     "text": [
      "+-------------+-----------+-----+\n",
      "|_CreationDate|       tags|score|\n",
      "+-------------+-----------+-----+\n",
      "|         2013|     jquery|   65|\n",
      "|         2014|         c#|  300|\n",
      "|         2018|   security|    2|\n",
      "|         2012|      jetty|    4|\n",
      "|         2013|     events|   29|\n",
      "|         2018|codenameone|    2|\n",
      "|         2012|   generics|    2|\n",
      "|         2011|       code|    1|\n",
      "|         2019|      forms|    0|\n",
      "|         2018|    powerbi|    0|\n",
      "|         2014|   assembly|    1|\n",
      "|         2011|geolocation|    0|\n",
      "|         2013|      neo4j|    2|\n",
      "|         2013| highcharts|    0|\n",
      "|         2015|        ios|  941|\n",
      "|         2018|       ajax|    0|\n",
      "|         2012|  glassfish|    0|\n",
      "|         2017|  angularjs|   -2|\n",
      "|         2019| phpmyadmin|    0|\n",
      "|         2017|       perl|    8|\n",
      "+-------------+-----------+-----+\n",
      "only showing top 20 rows\n",
      "\n"
     ]
    }
   ],
   "source": [
    "postsInternal.show()"
   ]
  },
  {
   "cell_type": "code",
   "execution_count": 13,
   "id": "bd49f09d-17ab-4637-90dd-003080611c30",
   "metadata": {},
   "outputs": [],
   "source": [
    "programm = spark.read.csv(\"big_data/data/programming-languages.csv\")"
   ]
  },
  {
   "cell_type": "code",
   "execution_count": 14,
   "id": "5cd5be83-d784-448f-a6a6-6ce1b6035ae8",
   "metadata": {},
   "outputs": [],
   "source": [
    "programms = programm.rdd.map(lambda x: x[0].lower()).collect()[1:]"
   ]
  },
  {
   "cell_type": "code",
   "execution_count": 71,
   "id": "1b0364e6-6753-43d9-89e4-d2e1dfa09d64",
   "metadata": {},
   "outputs": [],
   "source": [
    "posts = postsInternal.rdd.filter(lambda row: row.tags in programms).filter(lambda row: row._CreationDate >= 2010)"
   ]
  },
  {
   "cell_type": "code",
   "execution_count": 16,
   "id": "ac5f6fc8-7728-401b-9699-78208a85b3ed",
   "metadata": {},
   "outputs": [
    {
     "data": {
      "text/plain": [
       "264"
      ]
     },
     "execution_count": 16,
     "metadata": {},
     "output_type": "execute_result"
    }
   ],
   "source": [
    "posts.count()"
   ]
  },
  {
   "cell_type": "code",
   "execution_count": 87,
   "id": "4d7b2ea5-93b1-4a8e-81e6-f7ebe9238cf8",
   "metadata": {},
   "outputs": [],
   "source": [
    "ps = spark.createDataFrame(posts)"
   ]
  },
  {
   "cell_type": "code",
   "execution_count": 88,
   "id": "0a782d5f-fb86-40de-9d9a-3b574e8776b3",
   "metadata": {},
   "outputs": [],
   "source": [
    "ps = ps.orderBy([\"_CreationDate\", \"score\"], ascending=[1, 0])"
   ]
  },
  {
   "cell_type": "code",
   "execution_count": 90,
   "id": "b4271f6d-eb5c-4af2-9370-aead1433dffa",
   "metadata": {},
   "outputs": [
    {
     "name": "stdout",
     "output_type": "stream",
     "text": [
      "+-------------+------------+-----+\n",
      "|_CreationDate|        tags|score|\n",
      "+-------------+------------+-----+\n",
      "|         2010|         php|  841|\n",
      "|         2010|        java|  277|\n",
      "|         2010|  javascript|  176|\n",
      "|         2010|        ruby|  116|\n",
      "|         2010|      python|   76|\n",
      "|         2010|      delphi|   35|\n",
      "|         2010|           c|   35|\n",
      "|         2010|          go|   13|\n",
      "|         2010|  powershell|   11|\n",
      "|         2010|        bash|    9|\n",
      "|         2010|     haskell|    8|\n",
      "|         2010|        perl|    5|\n",
      "|         2010|           r|    2|\n",
      "|         2010|         ksh|    0|\n",
      "|         2010| applescript|    0|\n",
      "|         2010|actionscript|    0|\n",
      "|         2011|  javascript|  480|\n",
      "|         2011|        java|  301|\n",
      "|         2011|        ruby|  297|\n",
      "|         2011|      python|  281|\n",
      "+-------------+------------+-----+\n",
      "only showing top 20 rows\n",
      "\n"
     ]
    }
   ],
   "source": [
    "ps.show()"
   ]
  },
  {
   "cell_type": "code",
   "execution_count": 100,
   "id": "94861717-4f1f-4dc6-ae30-0733c6da3d0c",
   "metadata": {},
   "outputs": [],
   "source": [
    "tables = [ps.filter(ps._CreationDate == 2010 + i).limit(10) for i in range(0, 10)]"
   ]
  },
  {
   "cell_type": "code",
   "execution_count": 104,
   "id": "8fc006d4-5a96-411a-bc85-414cd778b0d8",
   "metadata": {},
   "outputs": [
    {
     "name": "stdout",
     "output_type": "stream",
     "text": [
      "+-------------+----------+-----+\n",
      "|_CreationDate|      tags|score|\n",
      "+-------------+----------+-----+\n",
      "|         2015|    python|  353|\n",
      "|         2015|      java|  349|\n",
      "|         2015|javascript|  298|\n",
      "|         2015|       php|   85|\n",
      "|         2015|         r|   78|\n",
      "|         2015|     scala|   51|\n",
      "|         2015|         c|   29|\n",
      "|         2015|        go|   20|\n",
      "|         2015|    matlab|   11|\n",
      "|         2015|      ruby|    9|\n",
      "+-------------+----------+-----+\n",
      "\n"
     ]
    }
   ],
   "source": [
    "tables[5].show()"
   ]
  },
  {
   "cell_type": "code",
   "execution_count": 112,
   "id": "f70bd0ad-3ce3-413c-bdea-73b69bfdf11d",
   "metadata": {},
   "outputs": [],
   "source": [
    "for table in tables: \n",
    "    table.write.mode(\"append\").parquet(f\"output/top10languages{table.first()[0]}.parquet\")"
   ]
  },
  {
   "attachments": {
    "image.png": {
     "image/png": "[encoded data removed]"
    }
   },
   "cell_type": "markdown",
   "metadata": {},
   "source": [
    "![image.png](attachment:image.png)"
   ]
  },
  {
   "cell_type": "code",
   "execution_count": null,
   "id": "1c429bf6-95da-4cf9-a4ef-45e35610d275",
   "metadata": {},
   "outputs": [],
   "source": []
  }
 ],
 "metadata": {
  "kernelspec": {
   "display_name": "Python 3",
   "language": "python",
   "name": "python3"
  },
  "language_info": {
   "codemirror_mode": {
    "name": "ipython",
    "version": 3
   },
   "file_extension": ".py",
   "mimetype": "text/x-python",
   "name": "python",
   "nbconvert_exporter": "python",
   "pygments_lexer": "ipython3",
   "version": "3.9.5"
  }
 },
 "nbformat": 4,
 "nbformat_minor": 5
}
